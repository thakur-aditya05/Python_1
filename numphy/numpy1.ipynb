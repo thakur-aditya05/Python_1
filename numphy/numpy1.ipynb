{
 "cells": [
  {
   "cell_type": "markdown",
   "id": "3caf3b2f-3c82-4af5-8739-2fea59951726",
   "metadata": {},
   "source": [
    "**welcome to numpy tutorial**"
   ]
  },
  {
   "cell_type": "markdown",
   "id": "f1663f87-7233-44b0-bb02-fbfa920e48d4",
   "metadata": {},
   "source": [
    "# welcome to tutorial "
   ]
  },
  {
   "cell_type": "markdown",
   "id": "677a69e0-c27f-4467-963e-a417edb78ab8",
   "metadata": {},
   "source": [
    " ** search markdown keyword **"
   ]
  },
  {
   "cell_type": "code",
   "execution_count": 4,
   "id": "03ff8a79-158f-474d-b434-e3d6f4044105",
   "metadata": {},
   "outputs": [],
   "source": [
    "import numpy as np\n",
    "# shift enter for new shell"
   ]
  },
  {
   "cell_type": "code",
   "execution_count": 5,
   "id": "ee9e01e8-6061-46ac-8589-6937c96f20b0",
   "metadata": {},
   "outputs": [
    {
     "name": "stdout",
     "output_type": "stream",
     "text": [
      "hello\n"
     ]
    }
   ],
   "source": [
    "print(\"hello\")"
   ]
  },
  {
   "cell_type": "code",
   "execution_count": 6,
   "id": "f2c3c350-b65f-4c42-a4ca-fae0d00cf1c2",
   "metadata": {},
   "outputs": [
    {
     "name": "stdout",
     "output_type": "stream",
     "text": [
      "[3 6 1]\n",
      "[[3 6 1]]\n",
      "[3 6 1]\n",
      "6\n",
      "(1, 3)\n",
      "int32\n"
     ]
    }
   ],
   "source": [
    "import numpy as np\n",
    "\n",
    "myarr=np.array([3,6,1])\n",
    "\n",
    "print(myarr)\n",
    "\n",
    "myarr3=np.array([[3,61,7]],np.int8) # 8 bit integer \n",
    "myarr2=np.array([[3,1,6]],np.int32) # 32 bit integer \n",
    "myarr1=np.array([[3,6,1]],np.int64) # 64\n",
    "print(myarr1)\n",
    "print(myarr1[0])\n",
    "print(myarr1[0,1])\n",
    "print(myarr1.shape)\n",
    "print(myarr.dtype)\n"
   ]
  },
  {
   "cell_type": "code",
   "execution_count": 7,
   "id": "2c75d521-fd18-46b8-abc0-5dffea29c8a2",
   "metadata": {},
   "outputs": [],
   "source": [
    "# numpy type referance"
   ]
  },
  {
   "cell_type": "code",
   "execution_count": 8,
   "id": "0aab2cf7-18af-4457-ad57-80c4bc6b6d47",
   "metadata": {},
   "outputs": [],
   "source": [
    "myarr1[0,1]=45"
   ]
  },
  {
   "cell_type": "code",
   "execution_count": 9,
   "id": "4275c582-b58f-441e-941d-a0cf98b4d68b",
   "metadata": {},
   "outputs": [],
   "source": [
    "  # array creation method in numpy "
   ]
  },
  {
   "cell_type": "code",
   "execution_count": 10,
   "id": "f17e8829-2caa-4a09-8300-01cf6070b4b9",
   "metadata": {},
   "outputs": [],
   "source": [
    "# https://numpy.org/doc/stable/user/basics.creation.html"
   ]
  },
  {
   "cell_type": "markdown",
   "id": "d1717176-e948-419d-8f89-6025481c18c7",
   "metadata": {},
   "source": [
    "# array creation: conversion from other python structure "
   ]
  },
  {
   "cell_type": "code",
   "execution_count": 12,
   "id": "7eb7deaf-2dfd-468e-b52a-d22de7e021a1",
   "metadata": {},
   "outputs": [],
   "source": [
    "listarray=np.array([[1,2,3],[1,2,3],[1,2,3]])"
   ]
  },
  {
   "cell_type": "code",
   "execution_count": 13,
   "id": "d8a4e07e-99ea-42d0-a58f-4edb36b3a29d",
   "metadata": {},
   "outputs": [
    {
     "data": {
      "text/plain": [
       "array([[1, 2, 3],\n",
       "       [1, 2, 3],\n",
       "       [1, 2, 3]])"
      ]
     },
     "execution_count": 13,
     "metadata": {},
     "output_type": "execute_result"
    }
   ],
   "source": [
    "listarray"
   ]
  },
  {
   "cell_type": "code",
   "execution_count": 14,
   "id": "0a784781-07ef-40aa-aea2-4a195149c3af",
   "metadata": {},
   "outputs": [
    {
     "data": {
      "text/plain": [
       "dtype('int32')"
      ]
     },
     "execution_count": 14,
     "metadata": {},
     "output_type": "execute_result"
    }
   ],
   "source": [
    "listarray.dtype"
   ]
  },
  {
   "cell_type": "code",
   "execution_count": 15,
   "id": "a4192d37-a182-495e-a2a7-7b554e0fe3ef",
   "metadata": {},
   "outputs": [
    {
     "data": {
      "text/plain": [
       "(3, 3)"
      ]
     },
     "execution_count": 15,
     "metadata": {},
     "output_type": "execute_result"
    }
   ],
   "source": [
    "listarray.shape"
   ]
  },
  {
   "cell_type": "code",
   "execution_count": 16,
   "id": "98869e83-0514-4d56-8623-e1d6e71101cb",
   "metadata": {},
   "outputs": [
    {
     "data": {
      "text/plain": [
       "9"
      ]
     },
     "execution_count": 16,
     "metadata": {},
     "output_type": "execute_result"
    }
   ],
   "source": [
    "listarray.size"
   ]
  },
  {
   "cell_type": "code",
   "execution_count": 17,
   "id": "41fa76f0-4abf-4561-a01c-d0eec5179bc3",
   "metadata": {},
   "outputs": [
    {
     "data": {
      "text/plain": [
       "array({1, 2, 3, 7}, dtype=object)"
      ]
     },
     "execution_count": 17,
     "metadata": {},
     "output_type": "execute_result"
    }
   ],
   "source": [
    "np.array({1,2,3,7})"
   ]
  },
  {
   "cell_type": "code",
   "execution_count": 18,
   "id": "4a996982-17ac-42c2-b8da-21f99672c56a",
   "metadata": {},
   "outputs": [],
   "source": [
    "zeros=np.zeros((2,5))"
   ]
  },
  {
   "cell_type": "code",
   "execution_count": 19,
   "id": "4e1388b6-9b91-4483-8970-ce4c53783921",
   "metadata": {},
   "outputs": [
    {
     "data": {
      "text/plain": [
       "array([[0., 0., 0., 0., 0.],\n",
       "       [0., 0., 0., 0., 0.]])"
      ]
     },
     "execution_count": 19,
     "metadata": {},
     "output_type": "execute_result"
    }
   ],
   "source": [
    "zeros"
   ]
  },
  {
   "cell_type": "code",
   "execution_count": 20,
   "id": "207aa5a8-a9d5-4daf-9485-f46e8250e2e7",
   "metadata": {},
   "outputs": [],
   "source": [
    "rng=np.arange(5)"
   ]
  },
  {
   "cell_type": "code",
   "execution_count": 21,
   "id": "f02cba77-db34-4a94-ac5f-d97eea0318a9",
   "metadata": {},
   "outputs": [
    {
     "data": {
      "text/plain": [
       "array([0, 1, 2, 3, 4])"
      ]
     },
     "execution_count": 21,
     "metadata": {},
     "output_type": "execute_result"
    }
   ],
   "source": [
    "rng"
   ]
  },
  {
   "cell_type": "code",
   "execution_count": 22,
   "id": "1e86ae91-3ee6-4a76-9f3d-d32fbc57bc72",
   "metadata": {},
   "outputs": [],
   "source": [
    "lspace=np.linspace(1,5,3)"
   ]
  },
  {
   "cell_type": "code",
   "execution_count": 23,
   "id": "6a70355b-b4a7-4ab1-a88d-d193703452fb",
   "metadata": {},
   "outputs": [
    {
     "data": {
      "text/plain": [
       "array([1., 3., 5.])"
      ]
     },
     "execution_count": 23,
     "metadata": {},
     "output_type": "execute_result"
    }
   ],
   "source": [
    "lspace"
   ]
  },
  {
   "cell_type": "code",
   "execution_count": 24,
   "id": "b542d69d-0623-4033-992b-c46f5945bb85",
   "metadata": {},
   "outputs": [],
   "source": [
    "emp=np.empty((4,6)) # empty array of size 4 , 6 and having randome values "
   ]
  },
  {
   "cell_type": "code",
   "execution_count": 25,
   "id": "e20d6e1d-458c-444b-a498-6684b54e9e72",
   "metadata": {},
   "outputs": [
    {
     "data": {
      "text/plain": [
       "array([[6.23042070e-307, 4.67296746e-307, 1.69121096e-306,\n",
       "        7.56595733e-307, 7.56587585e-307, 1.37961302e-306],\n",
       "       [1.05699242e-307, 8.01097889e-307, 1.78020169e-306,\n",
       "        7.56601165e-307, 1.02359984e-306, 1.42417221e-306],\n",
       "       [7.56593017e-307, 1.37961302e-306, 1.11259940e-306,\n",
       "        1.60219035e-306, 1.33511018e-306, 8.90092016e-307],\n",
       "       [9.79098366e-307, 9.34605037e-307, 1.37962320e-306,\n",
       "        1.37961302e-306, 2.22522596e-306, 8.34423917e-308]])"
      ]
     },
     "execution_count": 25,
     "metadata": {},
     "output_type": "execute_result"
    }
   ],
   "source": [
    "emp"
   ]
  },
  {
   "cell_type": "code",
   "execution_count": 26,
   "id": "9114763a-149e-4f35-875d-03d5e631e390",
   "metadata": {},
   "outputs": [],
   "source": [
    "emp_like=np.empty_like(lspace)"
   ]
  },
  {
   "cell_type": "code",
   "execution_count": 27,
   "id": "c341719a-ea00-4543-a91e-5935bd940d6d",
   "metadata": {},
   "outputs": [
    {
     "data": {
      "text/plain": [
       "array([7.74860419e-304, 7.74860419e-304, 7.74860419e-304])"
      ]
     },
     "execution_count": 27,
     "metadata": {},
     "output_type": "execute_result"
    }
   ],
   "source": [
    "emp_like"
   ]
  },
  {
   "cell_type": "code",
   "execution_count": 28,
   "id": "fd160c56-fe21-4b6d-b18c-93066f592fc6",
   "metadata": {},
   "outputs": [],
   "source": [
    "ide=np.identity(45)"
   ]
  },
  {
   "cell_type": "code",
   "execution_count": 29,
   "id": "a03bba18-a84f-48df-a378-adc5587ec1d3",
   "metadata": {},
   "outputs": [
    {
     "data": {
      "text/plain": [
       "array([[1., 0., 0., ..., 0., 0., 0.],\n",
       "       [0., 1., 0., ..., 0., 0., 0.],\n",
       "       [0., 0., 1., ..., 0., 0., 0.],\n",
       "       ...,\n",
       "       [0., 0., 0., ..., 1., 0., 0.],\n",
       "       [0., 0., 0., ..., 0., 1., 0.],\n",
       "       [0., 0., 0., ..., 0., 0., 1.]])"
      ]
     },
     "execution_count": 29,
     "metadata": {},
     "output_type": "execute_result"
    }
   ],
   "source": [
    "ide"
   ]
  },
  {
   "cell_type": "code",
   "execution_count": 30,
   "id": "78c57db1-43ae-4423-a794-b57b65bf4f7c",
   "metadata": {},
   "outputs": [
    {
     "data": {
      "text/plain": [
       "(45, 45)"
      ]
     },
     "execution_count": 30,
     "metadata": {},
     "output_type": "execute_result"
    }
   ],
   "source": [
    "ide.shape"
   ]
  },
  {
   "cell_type": "code",
   "execution_count": 31,
   "id": "65104859-83f2-4c36-b528-873265246c4e",
   "metadata": {},
   "outputs": [],
   "source": [
    "arr=np.arange(99)"
   ]
  },
  {
   "cell_type": "code",
   "execution_count": 32,
   "id": "d2bc9a59-3f57-4f70-a3de-54b5ee3f900c",
   "metadata": {},
   "outputs": [
    {
     "data": {
      "text/plain": [
       "array([ 0,  1,  2,  3,  4,  5,  6,  7,  8,  9, 10, 11, 12, 13, 14, 15, 16,\n",
       "       17, 18, 19, 20, 21, 22, 23, 24, 25, 26, 27, 28, 29, 30, 31, 32, 33,\n",
       "       34, 35, 36, 37, 38, 39, 40, 41, 42, 43, 44, 45, 46, 47, 48, 49, 50,\n",
       "       51, 52, 53, 54, 55, 56, 57, 58, 59, 60, 61, 62, 63, 64, 65, 66, 67,\n",
       "       68, 69, 70, 71, 72, 73, 74, 75, 76, 77, 78, 79, 80, 81, 82, 83, 84,\n",
       "       85, 86, 87, 88, 89, 90, 91, 92, 93, 94, 95, 96, 97, 98])"
      ]
     },
     "execution_count": 32,
     "metadata": {},
     "output_type": "execute_result"
    }
   ],
   "source": [
    "arr"
   ]
  },
  {
   "cell_type": "code",
   "execution_count": 33,
   "id": "1f5bcd37-497c-4240-a2f6-f921679baf58",
   "metadata": {},
   "outputs": [
    {
     "data": {
      "text/plain": [
       "array([[ 0,  1,  2,  3,  4,  5,  6,  7,  8,  9, 10, 11, 12, 13, 14, 15,\n",
       "        16, 17, 18, 19, 20, 21, 22, 23, 24, 25, 26, 27, 28, 29, 30, 31,\n",
       "        32],\n",
       "       [33, 34, 35, 36, 37, 38, 39, 40, 41, 42, 43, 44, 45, 46, 47, 48,\n",
       "        49, 50, 51, 52, 53, 54, 55, 56, 57, 58, 59, 60, 61, 62, 63, 64,\n",
       "        65],\n",
       "       [66, 67, 68, 69, 70, 71, 72, 73, 74, 75, 76, 77, 78, 79, 80, 81,\n",
       "        82, 83, 84, 85, 86, 87, 88, 89, 90, 91, 92, 93, 94, 95, 96, 97,\n",
       "        98]])"
      ]
     },
     "execution_count": 33,
     "metadata": {},
     "output_type": "execute_result"
    }
   ],
   "source": [
    "arr.reshape(3,33)"
   ]
  },
  {
   "cell_type": "code",
   "execution_count": 34,
   "id": "bd67cbcc-7acd-40a2-9384-4a1a7095eb5a",
   "metadata": {},
   "outputs": [
    {
     "data": {
      "text/plain": [
       "array([ 0,  1,  2,  3,  4,  5,  6,  7,  8,  9, 10, 11, 12, 13, 14, 15, 16,\n",
       "       17, 18, 19, 20, 21, 22, 23, 24, 25, 26, 27, 28, 29, 30, 31, 32, 33,\n",
       "       34, 35, 36, 37, 38, 39, 40, 41, 42, 43, 44, 45, 46, 47, 48, 49, 50,\n",
       "       51, 52, 53, 54, 55, 56, 57, 58, 59, 60, 61, 62, 63, 64, 65, 66, 67,\n",
       "       68, 69, 70, 71, 72, 73, 74, 75, 76, 77, 78, 79, 80, 81, 82, 83, 84,\n",
       "       85, 86, 87, 88, 89, 90, 91, 92, 93, 94, 95, 96, 97, 98])"
      ]
     },
     "execution_count": 34,
     "metadata": {},
     "output_type": "execute_result"
    }
   ],
   "source": [
    "arr"
   ]
  },
  {
   "cell_type": "code",
   "execution_count": 35,
   "id": "16fb0f08-2df0-4808-9834-6ecfa5c594d8",
   "metadata": {},
   "outputs": [],
   "source": [
    "arr1=np.arange(99)"
   ]
  },
  {
   "cell_type": "code",
   "execution_count": 36,
   "id": "a60957be-0794-4538-8da1-5dd2d75c0db2",
   "metadata": {},
   "outputs": [],
   "source": [
    "arr1=arr1.reshape(3,33)"
   ]
  },
  {
   "cell_type": "code",
   "execution_count": 37,
   "id": "3d818e43-1a0d-46bc-883d-8f72e6f9baff",
   "metadata": {},
   "outputs": [
    {
     "data": {
      "text/plain": [
       "array([[ 0,  1,  2,  3,  4,  5,  6,  7,  8,  9, 10, 11, 12, 13, 14, 15,\n",
       "        16, 17, 18, 19, 20, 21, 22, 23, 24, 25, 26, 27, 28, 29, 30, 31,\n",
       "        32],\n",
       "       [33, 34, 35, 36, 37, 38, 39, 40, 41, 42, 43, 44, 45, 46, 47, 48,\n",
       "        49, 50, 51, 52, 53, 54, 55, 56, 57, 58, 59, 60, 61, 62, 63, 64,\n",
       "        65],\n",
       "       [66, 67, 68, 69, 70, 71, 72, 73, 74, 75, 76, 77, 78, 79, 80, 81,\n",
       "        82, 83, 84, 85, 86, 87, 88, 89, 90, 91, 92, 93, 94, 95, 96, 97,\n",
       "        98]])"
      ]
     },
     "execution_count": 37,
     "metadata": {},
     "output_type": "execute_result"
    }
   ],
   "source": [
    "arr1"
   ]
  },
  {
   "cell_type": "code",
   "execution_count": 38,
   "id": "f48a77b3-40bd-4913-94fe-4f5db048e234",
   "metadata": {},
   "outputs": [
    {
     "data": {
      "text/plain": [
       "array([ 0,  1,  2,  3,  4,  5,  6,  7,  8,  9, 10, 11, 12, 13, 14, 15, 16,\n",
       "       17, 18, 19, 20, 21, 22, 23, 24, 25, 26, 27, 28, 29, 30, 31, 32, 33,\n",
       "       34, 35, 36, 37, 38, 39, 40, 41, 42, 43, 44, 45, 46, 47, 48, 49, 50,\n",
       "       51, 52, 53, 54, 55, 56, 57, 58, 59, 60, 61, 62, 63, 64, 65, 66, 67,\n",
       "       68, 69, 70, 71, 72, 73, 74, 75, 76, 77, 78, 79, 80, 81, 82, 83, 84,\n",
       "       85, 86, 87, 88, 89, 90, 91, 92, 93, 94, 95, 96, 97, 98])"
      ]
     },
     "execution_count": 38,
     "metadata": {},
     "output_type": "execute_result"
    }
   ],
   "source": [
    "arr1.ravel() # return the matrix of its initial form "
   ]
  },
  {
   "cell_type": "code",
   "execution_count": 39,
   "id": "fb68222b-7285-41c3-9b55-1399f5738a81",
   "metadata": {},
   "outputs": [
    {
     "data": {
      "text/plain": [
       "(99,)"
      ]
     },
     "execution_count": 39,
     "metadata": {},
     "output_type": "execute_result"
    }
   ],
   "source": [
    "arr.shape"
   ]
  },
  {
   "cell_type": "code",
   "execution_count": 40,
   "id": "eb407ae9-87c4-4a8e-92c9-275ea3f9ef47",
   "metadata": {},
   "outputs": [],
   "source": [
    "x=[[1, 2, 3], [4, 5, 6]]"
   ]
  },
  {
   "cell_type": "code",
   "execution_count": 41,
   "id": "8ecd6e63-9f67-4084-836b-200ef9ad4800",
   "metadata": {},
   "outputs": [],
   "source": [
    "arr = np.array(x)"
   ]
  },
  {
   "cell_type": "code",
   "execution_count": 42,
   "id": "ff42e0fa-ac08-42c5-89dc-110831b1f19d",
   "metadata": {},
   "outputs": [
    {
     "data": {
      "text/plain": [
       "array([5, 7, 9])"
      ]
     },
     "execution_count": 42,
     "metadata": {},
     "output_type": "execute_result"
    }
   ],
   "source": [
    "arr.sum(axis=0)"
   ]
  },
  {
   "cell_type": "code",
   "execution_count": 43,
   "id": "69e4942b-9e2e-4bae-98eb-010a00144208",
   "metadata": {},
   "outputs": [
    {
     "data": {
      "text/plain": [
       "array([ 6, 15])"
      ]
     },
     "execution_count": 43,
     "metadata": {},
     "output_type": "execute_result"
    }
   ],
   "source": [
    "arr.sum(axis=1)"
   ]
  },
  {
   "cell_type": "code",
   "execution_count": 44,
   "id": "43604d46-3302-4e16-9b7d-8af5168bfb8c",
   "metadata": {},
   "outputs": [
    {
     "data": {
      "text/plain": [
       "array([[1, 4],\n",
       "       [2, 5],\n",
       "       [3, 6]])"
      ]
     },
     "execution_count": 44,
     "metadata": {},
     "output_type": "execute_result"
    }
   ],
   "source": [
    "arr.T"
   ]
  },
  {
   "cell_type": "code",
   "execution_count": 45,
   "id": "d91371ff-7865-4648-abd5-2e6a5985e963",
   "metadata": {},
   "outputs": [],
   "source": [
    "y=[[[1, 2, 3], [4, 5, 6], [7, 8, 9]]]"
   ]
  },
  {
   "cell_type": "code",
   "execution_count": 46,
   "id": "f1a87ba2-6326-4d4f-a227-c39652d20da4",
   "metadata": {},
   "outputs": [],
   "source": [
    "arr1= np.array(y)"
   ]
  },
  {
   "cell_type": "code",
   "execution_count": 47,
   "id": "03a8beeb-75f3-400f-8f53-9d304ba56108",
   "metadata": {},
   "outputs": [
    {
     "data": {
      "text/plain": [
       "array([[[1, 2, 3],\n",
       "        [4, 5, 6],\n",
       "        [7, 8, 9]]])"
      ]
     },
     "execution_count": 47,
     "metadata": {},
     "output_type": "execute_result"
    }
   ],
   "source": [
    "arr1"
   ]
  },
  {
   "cell_type": "code",
   "execution_count": 48,
   "id": "caba2e7b-175b-48c1-8abe-5d685539894b",
   "metadata": {},
   "outputs": [
    {
     "data": {
      "text/plain": [
       "<numpy.flatiter at 0x267acdc54d0>"
      ]
     },
     "execution_count": 48,
     "metadata": {},
     "output_type": "execute_result"
    }
   ],
   "source": [
    "arr1.flat"
   ]
  },
  {
   "cell_type": "code",
   "execution_count": 49,
   "id": "9187fd89-fa8c-44e7-bdb0-ea6a736c2c7a",
   "metadata": {},
   "outputs": [
    {
     "name": "stdout",
     "output_type": "stream",
     "text": [
      "1\n",
      "2\n",
      "3\n",
      "4\n",
      "5\n",
      "6\n",
      "7\n",
      "8\n",
      "9\n"
     ]
    }
   ],
   "source": [
    "for item in arr1.flat:\n",
    "    print(item)"
   ]
  },
  {
   "cell_type": "code",
   "execution_count": 50,
   "id": "36f9eece-247c-4e66-ada7-b293d09b5018",
   "metadata": {},
   "outputs": [
    {
     "data": {
      "text/plain": [
       "3"
      ]
     },
     "execution_count": 50,
     "metadata": {},
     "output_type": "execute_result"
    }
   ],
   "source": [
    "arr1.ndim"
   ]
  },
  {
   "cell_type": "code",
   "execution_count": 51,
   "id": "5c475140-a74f-4c54-ba88-106fd515c3be",
   "metadata": {},
   "outputs": [
    {
     "data": {
      "text/plain": [
       "9"
      ]
     },
     "execution_count": 51,
     "metadata": {},
     "output_type": "execute_result"
    }
   ],
   "source": [
    "arr1.size"
   ]
  },
  {
   "cell_type": "code",
   "execution_count": 52,
   "id": "7c02a43e-bdd0-4242-a5f1-f0b772635447",
   "metadata": {},
   "outputs": [
    {
     "data": {
      "text/plain": [
       "36"
      ]
     },
     "execution_count": 52,
     "metadata": {},
     "output_type": "execute_result"
    }
   ],
   "source": [
    "arr1.nbytes"
   ]
  },
  {
   "cell_type": "markdown",
   "id": "d52ae746-3ea5-4455-87c4-6084d3acfbc0",
   "metadata": {},
   "source": [
    "# one d array"
   ]
  },
  {
   "cell_type": "code",
   "execution_count": 54,
   "id": "e116565d-6d59-47bd-ad21-1ace2f1f1904",
   "metadata": {},
   "outputs": [],
   "source": [
    "one=np.array([3,6,1])  "
   ]
  },
  {
   "cell_type": "code",
   "execution_count": 55,
   "id": "6812d59b-3978-4d71-ae39-3f7bfee08f09",
   "metadata": {},
   "outputs": [
    {
     "data": {
      "text/plain": [
       "1"
      ]
     },
     "execution_count": 55,
     "metadata": {},
     "output_type": "execute_result"
    }
   ],
   "source": [
    "one.argmax() # asa the function hai naki attribute # "
   ]
  },
  {
   "cell_type": "code",
   "execution_count": 56,
   "id": "7a0f0917-bbb4-4959-927f-1fac15b9dff2",
   "metadata": {},
   "outputs": [
    {
     "data": {
      "text/plain": [
       "2"
      ]
     },
     "execution_count": 56,
     "metadata": {},
     "output_type": "execute_result"
    }
   ],
   "source": [
    "one.argmin()"
   ]
  },
  {
   "cell_type": "code",
   "execution_count": 57,
   "id": "9b1d63f7-b243-4e15-8f52-6a3f00d760df",
   "metadata": {},
   "outputs": [
    {
     "data": {
      "text/plain": [
       "array([2, 0, 1], dtype=int64)"
      ]
     },
     "execution_count": 57,
     "metadata": {},
     "output_type": "execute_result"
    }
   ],
   "source": [
    "one.argsort()"
   ]
  },
  {
   "cell_type": "code",
   "execution_count": 58,
   "id": "690c9584-4c35-41fe-b2b1-934c0b9a7338",
   "metadata": {},
   "outputs": [
    {
     "data": {
      "text/plain": [
       "array([[[1, 2, 3],\n",
       "        [4, 5, 6],\n",
       "        [7, 8, 9]]])"
      ]
     },
     "execution_count": 58,
     "metadata": {},
     "output_type": "execute_result"
    }
   ],
   "source": [
    "arr1"
   ]
  },
  {
   "cell_type": "code",
   "execution_count": 59,
   "id": "bd60290b-7d8f-4088-93ff-b817d5fe7dca",
   "metadata": {},
   "outputs": [
    {
     "data": {
      "text/plain": [
       "array([[[0, 1, 2],\n",
       "        [0, 1, 2],\n",
       "        [0, 1, 2]]], dtype=int64)"
      ]
     },
     "execution_count": 59,
     "metadata": {},
     "output_type": "execute_result"
    }
   ],
   "source": [
    "arr1.argsort()"
   ]
  },
  {
   "cell_type": "code",
   "execution_count": 60,
   "id": "80588332-42aa-41d1-a875-6653e78ff9e6",
   "metadata": {},
   "outputs": [
    {
     "data": {
      "text/plain": [
       "0"
      ]
     },
     "execution_count": 60,
     "metadata": {},
     "output_type": "execute_result"
    }
   ],
   "source": [
    "arr1.argmin() # shidha krne ke baad minimum element  nnikal raha hai bs "
   ]
  },
  {
   "cell_type": "code",
   "execution_count": 61,
   "id": "e50438dd-85e2-455d-ae14-b14dbb860673",
   "metadata": {},
   "outputs": [
    {
     "data": {
      "text/plain": [
       "8"
      ]
     },
     "execution_count": 61,
     "metadata": {},
     "output_type": "execute_result"
    }
   ],
   "source": [
    "arr1.argmax()"
   ]
  },
  {
   "cell_type": "code",
   "execution_count": 62,
   "id": "9c5279e8-1075-4506-a286-b8068de7f8f0",
   "metadata": {},
   "outputs": [
    {
     "data": {
      "text/plain": [
       "array([[2, 2, 2]], dtype=int64)"
      ]
     },
     "execution_count": 62,
     "metadata": {},
     "output_type": "execute_result"
    }
   ],
   "source": [
    "arr1.argmax(axis=1) "
   ]
  },
  {
   "cell_type": "code",
   "execution_count": 63,
   "id": "2374ad82-7712-43f9-b90d-c2aed923f445",
   "metadata": {},
   "outputs": [
    {
     "data": {
      "text/plain": [
       "array([[[0, 0, 0],\n",
       "        [1, 1, 1],\n",
       "        [2, 2, 2]]], dtype=int64)"
      ]
     },
     "execution_count": 63,
     "metadata": {},
     "output_type": "execute_result"
    }
   ],
   "source": [
    "arr1.argsort(axis=1) "
   ]
  },
  {
   "cell_type": "code",
   "execution_count": 64,
   "id": "8eb06451-cf33-40cd-9afb-280bf6338a06",
   "metadata": {},
   "outputs": [
    {
     "data": {
      "text/plain": [
       "array([[2, 2, 2]], dtype=int64)"
      ]
     },
     "execution_count": 64,
     "metadata": {},
     "output_type": "execute_result"
    }
   ],
   "source": [
    "arr1.argmax(axis=2) "
   ]
  },
  {
   "cell_type": "code",
   "execution_count": 65,
   "id": "a1fe5083-e13e-4110-abab-b7d9707bc583",
   "metadata": {},
   "outputs": [
    {
     "data": {
      "text/plain": [
       "array([1, 2, 3, 4, 5, 6, 7, 8, 9])"
      ]
     },
     "execution_count": 65,
     "metadata": {},
     "output_type": "execute_result"
    }
   ],
   "source": [
    "arr1.ravel()"
   ]
  },
  {
   "cell_type": "code",
   "execution_count": 66,
   "id": "19cadbc9-b09a-4762-8238-464cbebc96de",
   "metadata": {},
   "outputs": [
    {
     "data": {
      "text/plain": [
       "array([[[1, 2, 3],\n",
       "        [4, 5, 6],\n",
       "        [7, 8, 9]]])"
      ]
     },
     "execution_count": 66,
     "metadata": {},
     "output_type": "execute_result"
    }
   ],
   "source": [
    "arr1"
   ]
  },
  {
   "cell_type": "code",
   "execution_count": 67,
   "id": "faaefe8e-b972-4284-9dee-dbfeac4dc93f",
   "metadata": {},
   "outputs": [
    {
     "data": {
      "text/plain": [
       "array([1, 2, 3, 4, 5, 6, 7, 8, 9])"
      ]
     },
     "execution_count": 67,
     "metadata": {},
     "output_type": "execute_result"
    }
   ],
   "source": [
    "arr1.ravel()"
   ]
  },
  {
   "cell_type": "code",
   "execution_count": 68,
   "id": "78d2b271-06d6-45c5-911b-7bdfb7ac163d",
   "metadata": {},
   "outputs": [
    {
     "data": {
      "text/plain": [
       "array([[1],\n",
       "       [2],\n",
       "       [3],\n",
       "       [4],\n",
       "       [5],\n",
       "       [6],\n",
       "       [7],\n",
       "       [8],\n",
       "       [9]])"
      ]
     },
     "execution_count": 68,
     "metadata": {},
     "output_type": "execute_result"
    }
   ],
   "source": [
    "arr1.reshape((9,1))"
   ]
  },
  {
   "cell_type": "code",
   "execution_count": 69,
   "id": "af19a3f0-7c72-4241-92f4-e11cc47189d3",
   "metadata": {},
   "outputs": [
    {
     "data": {
      "text/plain": [
       "array([1, 2, 3, 4, 5, 6, 7, 8, 9])"
      ]
     },
     "execution_count": 69,
     "metadata": {},
     "output_type": "execute_result"
    }
   ],
   "source": [
    "arr1.reshape((9,))"
   ]
  },
  {
   "cell_type": "markdown",
   "id": "421302c8-b9ea-424f-bc9f-6080b0caacef",
   "metadata": {},
   "source": [
    "**matrix multiplication**"
   ]
  },
  {
   "cell_type": "code",
   "execution_count": 71,
   "id": "448e9d4f-a441-4b36-9791-b728b057a0d6",
   "metadata": {},
   "outputs": [],
   "source": [
    "z=[[ 1,2,3],[4,5,6],[7,8,9]]"
   ]
  },
  {
   "cell_type": "code",
   "execution_count": 72,
   "id": "0aeda7d3-78f3-4bdf-b2e8-c46f0d817a82",
   "metadata": {},
   "outputs": [],
   "source": [
    "ar2=np.array(z)"
   ]
  },
  {
   "cell_type": "code",
   "execution_count": 73,
   "id": "4d15232e-c214-4ec0-b3b6-1535c6d63737",
   "metadata": {},
   "outputs": [],
   "source": [
    "a=[[7,8,9],[4,5,6],[1,1,1]]"
   ]
  },
  {
   "cell_type": "code",
   "execution_count": 74,
   "id": "12cfe2c4-94fb-49af-9063-210fa820c40a",
   "metadata": {},
   "outputs": [],
   "source": [
    "ar1=np.array(a)"
   ]
  },
  {
   "cell_type": "code",
   "execution_count": 75,
   "id": "15195db5-0e95-438b-8150-903d3d6a12e9",
   "metadata": {},
   "outputs": [
    {
     "data": {
      "text/plain": [
       "array([[7, 8, 9],\n",
       "       [4, 5, 6],\n",
       "       [1, 1, 1]])"
      ]
     },
     "execution_count": 75,
     "metadata": {},
     "output_type": "execute_result"
    }
   ],
   "source": [
    "ar1"
   ]
  },
  {
   "cell_type": "code",
   "execution_count": 76,
   "id": "2c67f2bb-aa30-4461-a3e6-2554d329035c",
   "metadata": {},
   "outputs": [
    {
     "data": {
      "text/plain": [
       "array([[7, 8, 9],\n",
       "       [4, 5, 6],\n",
       "       [1, 1, 1]])"
      ]
     },
     "execution_count": 76,
     "metadata": {},
     "output_type": "execute_result"
    }
   ],
   "source": [
    "ar1"
   ]
  },
  {
   "cell_type": "code",
   "execution_count": 77,
   "id": "374fb100-a120-4072-bc27-d349154c4dcd",
   "metadata": {},
   "outputs": [
    {
     "data": {
      "text/plain": [
       "array([[1, 2, 3],\n",
       "       [4, 5, 6],\n",
       "       [7, 8, 9]])"
      ]
     },
     "execution_count": 77,
     "metadata": {},
     "output_type": "execute_result"
    }
   ],
   "source": [
    "ar2"
   ]
  },
  {
   "cell_type": "code",
   "execution_count": 78,
   "id": "f0f24e0d-ba20-4f69-a6ba-0eda53c78116",
   "metadata": {},
   "outputs": [
    {
     "data": {
      "text/plain": [
       "array([[ 8, 10, 12],\n",
       "       [ 8, 10, 12],\n",
       "       [ 8,  9, 10]])"
      ]
     },
     "execution_count": 78,
     "metadata": {},
     "output_type": "execute_result"
    }
   ],
   "source": [
    "ar1+ar2"
   ]
  },
  {
   "cell_type": "code",
   "execution_count": 79,
   "id": "e09f9d4d-528f-48bd-9128-c27e9f0cace6",
   "metadata": {},
   "outputs": [
    {
     "data": {
      "text/plain": [
       "[1121, 3, 5, 7, 9, 7, 78, 9, 1, 2, 3, 4, 55, 6]"
      ]
     },
     "execution_count": 79,
     "metadata": {},
     "output_type": "execute_result"
    }
   ],
   "source": [
    "[1121,3,5,7,9,7,78,9]+[1,2,3,4,55,6]"
   ]
  },
  {
   "cell_type": "code",
   "execution_count": 80,
   "id": "3a061ed5-c26a-4c25-8bd1-29f983c53516",
   "metadata": {},
   "outputs": [
    {
     "data": {
      "text/plain": [
       "array([[ 7, 16, 27],\n",
       "       [16, 25, 36],\n",
       "       [ 7,  8,  9]])"
      ]
     },
     "execution_count": 80,
     "metadata": {},
     "output_type": "execute_result"
    }
   ],
   "source": [
    "ar1*ar2"
   ]
  },
  {
   "cell_type": "code",
   "execution_count": 81,
   "id": "86d1488a-93d8-4bfe-afb1-3120660c9589",
   "metadata": {},
   "outputs": [
    {
     "data": {
      "text/plain": [
       "array([[7, 8, 9],\n",
       "       [4, 5, 6],\n",
       "       [1, 1, 1]])"
      ]
     },
     "execution_count": 81,
     "metadata": {},
     "output_type": "execute_result"
    }
   ],
   "source": [
    "ar1"
   ]
  },
  {
   "cell_type": "code",
   "execution_count": 82,
   "id": "1035bd06-40e5-4489-bde5-1226436b8e07",
   "metadata": {},
   "outputs": [
    {
     "data": {
      "text/plain": [
       "array([[1, 2, 3],\n",
       "       [4, 5, 6],\n",
       "       [7, 8, 9]])"
      ]
     },
     "execution_count": 82,
     "metadata": {},
     "output_type": "execute_result"
    }
   ],
   "source": [
    "ar2"
   ]
  },
  {
   "cell_type": "code",
   "execution_count": 83,
   "id": "edd5b5cc-47fc-44b4-a13a-6843aa0546a3",
   "metadata": {},
   "outputs": [
    {
     "data": {
      "text/plain": [
       "array([[2.64575131, 2.82842712, 3.        ],\n",
       "       [2.        , 2.23606798, 2.44948974],\n",
       "       [1.        , 1.        , 1.        ]])"
      ]
     },
     "execution_count": 83,
     "metadata": {},
     "output_type": "execute_result"
    }
   ],
   "source": [
    "np.sqrt(ar1)"
   ]
  },
  {
   "cell_type": "code",
   "execution_count": 84,
   "id": "6cb9635a-5bdb-4097-a5ad-8b9d526dbd0b",
   "metadata": {},
   "outputs": [
    {
     "data": {
      "text/plain": [
       "42"
      ]
     },
     "execution_count": 84,
     "metadata": {},
     "output_type": "execute_result"
    }
   ],
   "source": [
    "ar1.sum()"
   ]
  },
  {
   "cell_type": "code",
   "execution_count": 85,
   "id": "9870d301-91ac-4ef7-b76b-9fb48b5f5cfd",
   "metadata": {},
   "outputs": [
    {
     "data": {
      "text/plain": [
       "1"
      ]
     },
     "execution_count": 85,
     "metadata": {},
     "output_type": "execute_result"
    }
   ],
   "source": [
    "ar1.min()"
   ]
  },
  {
   "cell_type": "code",
   "execution_count": 86,
   "id": "f8effbe7-472b-48ad-8712-dec18a46b46d",
   "metadata": {},
   "outputs": [
    {
     "data": {
      "text/plain": [
       "9"
      ]
     },
     "execution_count": 86,
     "metadata": {},
     "output_type": "execute_result"
    }
   ],
   "source": [
    "ar1.max()"
   ]
  },
  {
   "cell_type": "code",
   "execution_count": 87,
   "id": "66050478-0d29-4011-b639-3221f9a99835",
   "metadata": {},
   "outputs": [
    {
     "data": {
      "text/plain": [
       "array([[7, 8, 9],\n",
       "       [4, 5, 6],\n",
       "       [1, 1, 1]])"
      ]
     },
     "execution_count": 87,
     "metadata": {},
     "output_type": "execute_result"
    }
   ],
   "source": [
    "ar1"
   ]
  },
  {
   "cell_type": "code",
   "execution_count": 88,
   "id": "4457a7df-c29f-4d38-b812-5f6209fef148",
   "metadata": {},
   "outputs": [
    {
     "data": {
      "text/plain": [
       "(array([0, 0, 0, 1], dtype=int64), array([0, 1, 2, 2], dtype=int64))"
      ]
     },
     "execution_count": 88,
     "metadata": {},
     "output_type": "execute_result"
    }
   ],
   "source": [
    "np.where(ar1>5)"
   ]
  },
  {
   "cell_type": "code",
   "execution_count": 182,
   "id": "b00b80a8-e1e8-4bc7-b5ac-7ef01b8cc3e4",
   "metadata": {},
   "outputs": [
    {
     "data": {
      "text/plain": [
       "array([[7, 8, 9],\n",
       "       [4, 5, 6],\n",
       "       [1, 1, 1]])"
      ]
     },
     "execution_count": 182,
     "metadata": {},
     "output_type": "execute_result"
    }
   ],
   "source": [
    "ar1"
   ]
  },
  {
   "cell_type": "code",
   "execution_count": 89,
   "id": "a32c8d48-519a-4d60-a83d-8ebc20f0f450",
   "metadata": {},
   "outputs": [
    {
     "data": {
      "text/plain": [
       "(array([0, 0, 0, 1], dtype=int64), array([0, 1, 2, 2], dtype=int64))"
      ]
     },
     "execution_count": 89,
     "metadata": {},
     "output_type": "execute_result"
    }
   ],
   "source": [
    "np.where(ar1>5) #greater than 5 element find krna hai "
   ]
  },
  {
   "cell_type": "code",
   "execution_count": 90,
   "id": "adb4a3d5-4384-4c9a-98b5-b6f308a09c21",
   "metadata": {},
   "outputs": [
    {
     "data": {
      "text/plain": [
       "tuple"
      ]
     },
     "execution_count": 90,
     "metadata": {},
     "output_type": "execute_result"
    }
   ],
   "source": [
    "type(np.where(ar1>5))"
   ]
  },
  {
   "cell_type": "code",
   "execution_count": 91,
   "id": "ccff9295-cb0d-4b8e-88d9-d19df4fc5cd6",
   "metadata": {},
   "outputs": [
    {
     "data": {
      "text/plain": [
       "9"
      ]
     },
     "execution_count": 91,
     "metadata": {},
     "output_type": "execute_result"
    }
   ],
   "source": [
    "np.count_nonzero(ar1)"
   ]
  },
  {
   "cell_type": "code",
   "execution_count": 92,
   "id": "91915ee9-112c-4393-ac6b-8c6d78e5eedf",
   "metadata": {},
   "outputs": [
    {
     "data": {
      "text/plain": [
       "(array([0, 0, 0, 1, 1, 1, 2, 2, 2], dtype=int64),\n",
       " array([0, 1, 2, 0, 1, 2, 0, 1, 2], dtype=int64))"
      ]
     },
     "execution_count": 92,
     "metadata": {},
     "output_type": "execute_result"
    }
   ],
   "source": [
    "np.nonzero(ar1) #np.nonzero(ar1) returns the indices of all non-zero elements in the NumPy array ar1"
   ]
  },
  {
   "cell_type": "code",
   "execution_count": 180,
   "id": "4f355fd7-10bc-47f9-8842-971a1beb1d35",
   "metadata": {},
   "outputs": [
    {
     "data": {
      "text/plain": [
       "array([[7, 8, 9],\n",
       "       [4, 5, 6],\n",
       "       [1, 1, 1]])"
      ]
     },
     "execution_count": 180,
     "metadata": {},
     "output_type": "execute_result"
    }
   ],
   "source": [
    "ar1"
   ]
  },
  {
   "cell_type": "code",
   "execution_count": 184,
   "id": "126bf658-613d-4a77-b772-199edc814e10",
   "metadata": {},
   "outputs": [],
   "source": [
    "ar1[1,2]=0"
   ]
  },
  {
   "cell_type": "code",
   "execution_count": 186,
   "id": "2e0c119e-beca-44e3-b715-9a1ab0dbfb55",
   "metadata": {},
   "outputs": [
    {
     "data": {
      "text/plain": [
       "array([[7, 8, 9],\n",
       "       [4, 5, 0],\n",
       "       [1, 1, 1]])"
      ]
     },
     "execution_count": 186,
     "metadata": {},
     "output_type": "execute_result"
    }
   ],
   "source": [
    "ar1"
   ]
  },
  {
   "cell_type": "code",
   "execution_count": 188,
   "id": "39663ff1-7663-482a-be47-d8fbe11479e1",
   "metadata": {},
   "outputs": [],
   "source": [
    "ar1[0,0]=0"
   ]
  },
  {
   "cell_type": "code",
   "execution_count": 190,
   "id": "dc3eb026-a592-4e2c-aa33-0a26f6cb1597",
   "metadata": {},
   "outputs": [
    {
     "data": {
      "text/plain": [
       "array([[0, 8, 9],\n",
       "       [4, 5, 0],\n",
       "       [1, 1, 1]])"
      ]
     },
     "execution_count": 190,
     "metadata": {},
     "output_type": "execute_result"
    }
   ],
   "source": [
    "ar1"
   ]
  },
  {
   "cell_type": "code",
   "execution_count": 192,
   "id": "889d4b9e-1d00-4e43-8f45-0927d142dda8",
   "metadata": {},
   "outputs": [],
   "source": [
    "# hrr axis ke liye ek tuple mil jata hai "
   ]
  },
  {
   "cell_type": "code",
   "execution_count": 194,
   "id": "7f6868b0-d0f4-4207-8899-cf317449975e",
   "metadata": {},
   "outputs": [
    {
     "data": {
      "text/plain": [
       "(array([0, 0, 1, 1, 2, 2, 2], dtype=int64),\n",
       " array([1, 2, 0, 1, 0, 1, 2], dtype=int64))"
      ]
     },
     "execution_count": 194,
     "metadata": {},
     "output_type": "execute_result"
    }
   ],
   "source": [
    "  np.nonzero(ar1)"
   ]
  },
  {
   "cell_type": "code",
   "execution_count": 196,
   "id": "e7152d31-0d59-42ed-9f9f-d04294a88618",
   "metadata": {},
   "outputs": [],
   "source": [
    "import sys"
   ]
  },
  {
   "cell_type": "code",
   "execution_count": 200,
   "id": "3d1f19f6-1482-4678-9678-62aa19b90ef6",
   "metadata": {},
   "outputs": [],
   "source": [
    "py_ar=[0, 0, 1, 1, 2, 2, 2]"
   ]
  },
  {
   "cell_type": "code",
   "execution_count": 202,
   "id": "55d6e6cb-fd43-42b8-b4b8-8fbc43d8d725",
   "metadata": {},
   "outputs": [],
   "source": [
    "np_ar=np.array(py_ar)"
   ]
  },
  {
   "cell_type": "code",
   "execution_count": 214,
   "id": "6dac8168-86b3-4cbc-94d2-5bba1bfdb08d",
   "metadata": {},
   "outputs": [
    {
     "data": {
      "text/plain": [
       "28"
      ]
     },
     "execution_count": 214,
     "metadata": {},
     "output_type": "execute_result"
    }
   ],
   "source": [
    "sys.getsizeof(1) #sys.getsizeof() tells how much memory an object uses."
   ]
  },
  {
   "cell_type": "code",
   "execution_count": 208,
   "id": "3ece84f7-8805-49d9-aef0-127b1fe5825a",
   "metadata": {},
   "outputs": [
    {
     "data": {
      "text/plain": [
       "196"
      ]
     },
     "execution_count": 208,
     "metadata": {},
     "output_type": "execute_result"
    }
   ],
   "source": [
    "sys.getsizeof(1)*len(py_ar)"
   ]
  },
  {
   "cell_type": "code",
   "execution_count": 210,
   "id": "45ba9447-f9c9-4dd7-88cc-f63102895e18",
   "metadata": {},
   "outputs": [
    {
     "data": {
      "text/plain": [
       "28"
      ]
     },
     "execution_count": 210,
     "metadata": {},
     "output_type": "execute_result"
    }
   ],
   "source": [
    "np_ar.itemsize*np_ar.size"
   ]
  },
  {
   "cell_type": "code",
   "execution_count": 212,
   "id": "3b8616b5-233e-49e9-a2f1-676c75b1d167",
   "metadata": {},
   "outputs": [
    {
     "data": {
      "text/plain": [
       "4"
      ]
     },
     "execution_count": 212,
     "metadata": {},
     "output_type": "execute_result"
    }
   ],
   "source": [
    "np_ar.itemsize"
   ]
  },
  {
   "cell_type": "code",
   "execution_count": 216,
   "id": "9739cab4-d509-492d-8564-79af73b6ad18",
   "metadata": {},
   "outputs": [],
   "source": [
    "# https://docs.scipy.org/doc/numpy-1.14.0/reference/generated/numpy.ndarray.html"
   ]
  },
  {
   "cell_type": "code",
   "execution_count": 218,
   "id": "65e74ba1-d959-45e2-a81a-493e8b5a5d9b",
   "metadata": {},
   "outputs": [
    {
     "data": {
      "text/plain": [
       "[0, 0, 1, 1, 2, 2, 2]"
      ]
     },
     "execution_count": 218,
     "metadata": {},
     "output_type": "execute_result"
    }
   ],
   "source": [
    "np_ar.tolist()"
   ]
  },
  {
   "cell_type": "code",
   "execution_count": null,
   "id": "3903798c-79d8-43ae-85fb-8f98deac92b0",
   "metadata": {},
   "outputs": [],
   "source": []
  }
 ],
 "metadata": {
  "kernelspec": {
   "display_name": "Python [conda env:base] *",
   "language": "python",
   "name": "conda-base-py"
  },
  "language_info": {
   "codemirror_mode": {
    "name": "ipython",
    "version": 3
   },
   "file_extension": ".py",
   "mimetype": "text/x-python",
   "name": "python",
   "nbconvert_exporter": "python",
   "pygments_lexer": "ipython3",
   "version": "3.12.7"
  }
 },
 "nbformat": 4,
 "nbformat_minor": 5
}
